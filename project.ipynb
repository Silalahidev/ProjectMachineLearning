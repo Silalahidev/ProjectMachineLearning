{
 "cells": [
  {
   "cell_type": "code",
   "execution_count": null,
   "metadata": {},
   "outputs": [
    {
     "name": "stdout",
     "output_type": "stream",
     "text": [
      "TARGET\n",
      "0    282686\n",
      "1     24825\n",
      "Name: count, dtype: int64\n",
      "Accuracy: 1.0\n",
      "Classification Report:\n",
      "               precision    recall  f1-score   support\n",
      "\n",
      "           0       1.00      1.00      1.00       972\n",
      "           1       1.00      1.00      1.00      8777\n",
      "\n",
      "    accuracy                           1.00      9749\n",
      "   macro avg       1.00      1.00      1.00      9749\n",
      "weighted avg       1.00      1.00      1.00      9749\n",
      "\n"
     ]
    }
   ],
   "source": [
    "import pandas as pd\n",
    "import numpy as np\n",
    "from sklearn.model_selection import train_test_split\n",
    "from sklearn.preprocessing import LabelEncoder, StandardScaler\n",
    "from sklearn.ensemble import RandomForestClassifier\n",
    "from sklearn.metrics import accuracy_score, classification_report\n",
    "\n",
    "# Melihat jumlah data yang memiliki target 0 dan 1 atau melihat client yang sulit melakukan pembayaran \n",
    "data=pd.read_csv(\"application_train.csv\")\n",
    "print(data['TARGET'].value_counts())\n",
    "\n",
    "# Load dataset\n",
    "df = pd.read_csv(\"application_test.csv\")\n",
    "\n",
    "# memilih kolom yang akan digunakan untuk prediksi\n",
    "selected_columns = [\n",
    "    \"SK_ID_CURR\", \"NAME_CONTRACT_TYPE\", \"CODE_GENDER\", \"FLAG_OWN_CAR\", \"FLAG_OWN_REALTY\", \"CNT_CHILDREN\",\n",
    "    \"AMT_INCOME_TOTAL\", \"AMT_CREDIT\", \"AMT_ANNUITY\", \"AMT_GOODS_PRICE\", \"NAME_INCOME_TYPE\",\n",
    "    \"NAME_EDUCATION_TYPE\", \"NAME_FAMILY_STATUS\", \"NAME_HOUSING_TYPE\", \"DAYS_BIRTH\", \"DAYS_EMPLOYED\",\n",
    "    \"REGION_RATING_CLIENT\", \"REGION_RATING_CLIENT_W_CITY\", \"EXT_SOURCE_1\", \"EXT_SOURCE_2\", \"EXT_SOURCE_3\"\n",
    "]\n",
    "df = df[selected_columns]\n",
    "\n",
    "\n",
    "# Mengisi nilai kosong dengan median\n",
    "df.fillna(df.select_dtypes(include=[np.number]).median(numeric_only=True), inplace=True)\n",
    "\n",
    "\n",
    "# Mengubah data kategorikal menjadi numerik \n",
    "categorical_cols = df.select_dtypes(include=['object']).columns\n",
    "encoder = LabelEncoder()\n",
    "for col in categorical_cols:\n",
    "    df[col] = encoder.fit_transform(df[col])\n",
    "\n",
    "# Mendefenisikan fitur dan target \n",
    "X = df.drop(columns=[\"SK_ID_CURR\"])\n",
    "y = (df[\"AMT_CREDIT\"] > df[\"AMT_INCOME_TOTAL\"].median()).astype(int)  # Example target\n",
    "\n",
    "# Membagi data Training dan Testing\n",
    "X_train, X_test, y_train, y_test = train_test_split(X, y, test_size=0.2, random_state=42)\n",
    "\n",
    "# Normalisasi data\n",
    "scaler = StandardScaler()\n",
    "X_train = scaler.fit_transform(X_train)\n",
    "X_test = scaler.transform(X_test)\n",
    "\n",
    "# Train model\n",
    "model = RandomForestClassifier(n_estimators=100, random_state=42)\n",
    "model.fit(X_train, y_train)\n",
    "\n",
    "# Evaluate model\n",
    "y_pred = model.predict(X_test)\n",
    "print(\"Accuracy:\", accuracy_score(y_test, y_pred))\n",
    "print(\"Classification Report:\\n\", classification_report(y_test, y_pred))\n"
   ]
  }
 ],
 "metadata": {
  "kernelspec": {
   "display_name": "Python 3",
   "language": "python",
   "name": "python3"
  },
  "language_info": {
   "codemirror_mode": {
    "name": "ipython",
    "version": 3
   },
   "file_extension": ".py",
   "mimetype": "text/x-python",
   "name": "python",
   "nbconvert_exporter": "python",
   "pygments_lexer": "ipython3",
   "version": "3.12.5"
  }
 },
 "nbformat": 4,
 "nbformat_minor": 2
}
